{
  "cells": [
    {
      "cell_type": "markdown",
      "metadata": {
        "id": "view-in-github",
        "colab_type": "text"
      },
      "source": [
        "<a href=\"https://colab.research.google.com/github/MuhammadMuzamil514/ArtificialIntelligenceActivityTask/blob/main/Artificial_Intelligence_Lab_1_Exercise.ipynb\" target=\"_parent\"><img src=\"https://colab.research.google.com/assets/colab-badge.svg\" alt=\"Open In Colab\"/></a>"
      ]
    },
    {
      "cell_type": "markdown",
      "source": [
        "**Q1**.** Write a program to check if a number is prime.**"
      ],
      "metadata": {
        "id": "U_xqyd0gR_ar"
      }
    },
    {
      "cell_type": "code",
      "source": [
        "def is_prime(num):\n",
        "    \"\"\"Check if a number is prime.\"\"\"\n",
        "    # Numbers less than 2 are not prime\n",
        "    if num < 2:\n",
        "        return False\n",
        "\n",
        "    # Check for factors from 2 to square root of num\n",
        "    for i in range(2, int(num**0.5) + 1):\n",
        "        if num % i == 0:\n",
        "            return False\n",
        "\n",
        "    return True\n",
        "\n",
        "# Test the function with different numbers\n",
        "test_numbers = [1, 2, 3, 4, 5, 10, 13, 15, 17, 25, 29, 30]\n",
        "\n",
        "for number in test_numbers:\n",
        "    if is_prime(number):\n",
        "        print(f\"{number} is a prime number\")\n",
        "    else:\n",
        "        print(f\"{number} is not a prime number\")"
      ],
      "metadata": {
        "colab": {
          "base_uri": "https://localhost:8080/"
        },
        "id": "-T0R0E7BSFWj",
        "outputId": "2ce0e5ea-9469-4865-ceb3-e940e1b4f9be"
      },
      "execution_count": null,
      "outputs": [
        {
          "output_type": "stream",
          "name": "stdout",
          "text": [
            "1 is not a prime number\n",
            "2 is a prime number\n",
            "3 is a prime number\n",
            "4 is not a prime number\n",
            "5 is a prime number\n",
            "10 is not a prime number\n",
            "13 is a prime number\n",
            "15 is not a prime number\n",
            "17 is a prime number\n",
            "25 is not a prime number\n",
            "29 is a prime number\n",
            "30 is not a prime number\n"
          ]
        }
      ]
    },
    {
      "cell_type": "markdown",
      "source": [
        "Q2. Create a list of 10 numbers and print their average."
      ],
      "metadata": {
        "id": "RNlYyM7mSU-b"
      }
    },
    {
      "cell_type": "code",
      "source": [
        "# Get 10 numbers from user\n",
        "numbers = []\n",
        "for i in range(10):\n",
        "    num = float(input(f\"Enter number {i+1}: \"))\n",
        "    numbers.append(num)\n",
        "\n",
        "# Calculate and print average\n",
        "average = sum(numbers) / len(numbers)\n",
        "print(\"\\nEntered numbers:\", numbers)\n",
        "print(\"Average:\", average)"
      ],
      "metadata": {
        "colab": {
          "base_uri": "https://localhost:8080/"
        },
        "id": "mxWG7MD2SZvj",
        "outputId": "2062874a-d20d-4a86-dda9-c0fe51aad5d5"
      },
      "execution_count": null,
      "outputs": [
        {
          "output_type": "stream",
          "name": "stdout",
          "text": [
            "Enter number 1: 4\n",
            "Enter number 2: 8\n",
            "Enter number 3: 5\n",
            "Enter number 4: 4\n",
            "Enter number 5: 3\n",
            "Enter number 6: 9\n",
            "Enter number 7: 8\n",
            "Enter number 8: 0\n",
            "Enter number 9: 7\n",
            "Enter number 10: 6\n",
            "\n",
            "Entered numbers: [4.0, 8.0, 5.0, 4.0, 3.0, 9.0, 8.0, 0.0, 7.0, 6.0]\n",
            "Average: 5.4\n"
          ]
        }
      ]
    },
    {
      "cell_type": "markdown",
      "source": [
        "Q3. Store student names and marks in a dictionary and display the topper."
      ],
      "metadata": {
        "id": "uchrkr3vSufz"
      }
    },
    {
      "cell_type": "code",
      "source": [
        "# Step 1: Create a dictionary with student names and marks\n",
        "students = {\n",
        "    \"Alice\": 85,\n",
        "    \"Bob\": 92,\n",
        "    \"Charlie\": 78,\n",
        "    \"David\": 92,\n",
        "    \"Eve\": 88,\n",
        "    \"Frank\": 76,\n",
        "    \"Grace\": 91,\n",
        "    \"Heidi\": 85,\n",
        "    \"Ivan\": 79,\n",
        "    \"Judy\": 92\n",
        "}\n",
        "\n",
        "# Step 2: Find the highest marks\n",
        "highest_marks = max(students.values())\n",
        "\n",
        "# Step 3: Find all students who have the highest marks\n",
        "toppers = [name for name, marks in students.items() if marks == highest_marks]\n",
        "\n",
        "# Step 4: Display the results\n",
        "print(\"Student Marks:\")\n",
        "for name, marks in students.items():\n",
        "    print(f\"{name}: {marks}\")\n",
        "\n",
        "print(\"\\nHighest Marks:\", highest_marks)\n",
        "print(\"Topper(s):\", \", \".join(toppers))\n",
        "\n",
        "# Handle single vs multiple toppers\n",
        "if len(toppers) == 1:\n",
        "    print(f\"The topper is {toppers[0]} with {highest_marks} marks\")\n",
        "else:\n",
        "    print(f\"There are {len(toppers)} toppers with {highest_marks} marks:\")\n",
        "    for topper in toppers:\n",
        "        print(f\"- {topper}\")"
      ],
      "metadata": {
        "colab": {
          "base_uri": "https://localhost:8080/"
        },
        "id": "rzJoNH2gS3MD",
        "outputId": "25202405-1cee-4280-9ef5-1b0830973232"
      },
      "execution_count": null,
      "outputs": [
        {
          "output_type": "stream",
          "name": "stdout",
          "text": [
            "Student Marks:\n",
            "Alice: 85\n",
            "Bob: 92\n",
            "Charlie: 78\n",
            "David: 92\n",
            "Eve: 88\n",
            "Frank: 76\n",
            "Grace: 91\n",
            "Heidi: 85\n",
            "Ivan: 79\n",
            "Judy: 92\n",
            "\n",
            "Highest Marks: 92\n",
            "Topper(s): Bob, David, Judy\n",
            "There are 3 toppers with 92 marks:\n",
            "- Bob\n",
            "- David\n",
            "- Judy\n"
          ]
        }
      ]
    },
    {
      "cell_type": "markdown",
      "source": [
        "Q4. Demonstrate set operations: union, intersection, difference."
      ],
      "metadata": {
        "id": "7w3tbxiXTBr7"
      }
    },
    {
      "cell_type": "code",
      "source": [
        "# Create two sets with some common and unique elements\n",
        "set1 = {1, 2, 3, 4, 5}\n",
        "set2 = {4, 5, 6, 7, 8}\n",
        "\n",
        "print(\"Set 1:\", set1)\n",
        "print(\"Set 2:\", set2)\n",
        "print()\n",
        "\n",
        "# 1. Union (all elements from both sets, without duplicates)\n",
        "union_set = set1.union(set2)\n",
        "print(\"Union (set1 | set2):\", union_set)\n",
        "# Alternative using operator\n",
        "print(\"Union using | operator:\", set1 | set2)\n",
        "print()\n",
        "\n",
        "# 2. Intersection (elements common to both sets)\n",
        "intersection_set = set1.intersection(set2)\n",
        "print(\"Intersection (set1 & set2):\", intersection_set)\n",
        "# Alternative using operator\n",
        "print(\"Intersection using & operator:\", set1 & set2)\n",
        "print()\n",
        "\n",
        "# 3. Difference (elements in set1 but not in set2)\n",
        "difference_set = set1.difference(set2)\n",
        "print(\"Difference (set1 - set2):\", difference_set)\n",
        "# Alternative using operator\n",
        "print(\"Difference using - operator:\", set1 - set2)\n",
        "print()\n",
        "\n",
        "# 4. Symmetric Difference (elements in either set but not both)\n",
        "symmetric_difference = set1.symmetric_difference(set2)\n",
        "print(\"Symmetric Difference (set1 ^ set2):\", symmetric_difference)\n",
        "# Alternative using operator\n",
        "print(\"Symmetric Difference using ^ operator:\", set1 ^ set2)\n",
        "print()\n",
        "\n",
        "# 5. Additional demonstrations\n",
        "# Check if set1 is a subset of set2\n",
        "print(\"Is set1 a subset of set2?\", set1.issubset(set2))\n",
        "\n",
        "# Check if set1 is a superset of set2\n",
        "print(\"Is set1 a superset of set2?\", set1.issuperset(set2))\n",
        "\n",
        "# Check if sets are disjoint (no common elements)\n",
        "print(\"Are set1 and set2 disjoint?\", set1.isdisjoint(set2))"
      ],
      "metadata": {
        "colab": {
          "base_uri": "https://localhost:8080/"
        },
        "id": "lJQjRM2iTPoM",
        "outputId": "b7ed430b-62be-44d1-f9d8-eba8e8f25234"
      },
      "execution_count": null,
      "outputs": [
        {
          "output_type": "stream",
          "name": "stdout",
          "text": [
            "Set 1: {1, 2, 3, 4, 5}\n",
            "Set 2: {4, 5, 6, 7, 8}\n",
            "\n",
            "Union (set1 | set2): {1, 2, 3, 4, 5, 6, 7, 8}\n",
            "Union using | operator: {1, 2, 3, 4, 5, 6, 7, 8}\n",
            "\n",
            "Intersection (set1 & set2): {4, 5}\n",
            "Intersection using & operator: {4, 5}\n",
            "\n",
            "Difference (set1 - set2): {1, 2, 3}\n",
            "Difference using - operator: {1, 2, 3}\n",
            "\n",
            "Symmetric Difference (set1 ^ set2): {1, 2, 3, 6, 7, 8}\n",
            "Symmetric Difference using ^ operator: {1, 2, 3, 6, 7, 8}\n",
            "\n",
            "Is set1 a subset of set2? False\n",
            "Is set1 a superset of set2? False\n",
            "Are set1 and set2 disjoint? False\n"
          ]
        }
      ]
    },
    {
      "cell_type": "markdown",
      "source": [
        "Q5. Write a function to compute factorial using recursion."
      ],
      "metadata": {
        "id": "lOuXOcKOTUMT"
      }
    },
    {
      "cell_type": "code",
      "source": [
        "def factorial(n):\n",
        "    \"\"\"Compute factorial of a non-negative integer using recursion.\"\"\"\n",
        "    # Check for negative input\n",
        "    if n < 0:\n",
        "        raise ValueError(\"Factorial is not defined for negative numbers\")\n",
        "\n",
        "    # Base case: 0! = 1\n",
        "    if n == 0:\n",
        "        return 1\n",
        "\n",
        "    # Recursive case: n! = n * (n-1)!\n",
        "    return n * factorial(n - 1)\n",
        "\n",
        "# Test the function with different values\n",
        "test_numbers = [0, 1, 5, 7, 10]\n",
        "\n",
        "for num in test_numbers:\n",
        "    print(f\"{num}! = {factorial(num)}\")\n",
        "\n",
        "# Test with negative number (will raise error)\n",
        "try:\n",
        "    factorial(-3)\n",
        "except ValueError as e:\n",
        "    print(\"\\nError:\", e)"
      ],
      "metadata": {
        "colab": {
          "base_uri": "https://localhost:8080/"
        },
        "id": "uO_hhf1GTW2D",
        "outputId": "a98d4118-989d-4895-97a3-b48615d0d1b9"
      },
      "execution_count": null,
      "outputs": [
        {
          "output_type": "stream",
          "name": "stdout",
          "text": [
            "0! = 1\n",
            "1! = 1\n",
            "5! = 120\n",
            "7! = 5040\n",
            "10! = 3628800\n",
            "\n",
            "Error: Factorial is not defined for negative numbers\n"
          ]
        }
      ]
    },
    {
      "cell_type": "markdown",
      "source": [
        "Q6. Use a for loop to print the Fibonacci series up to n terms."
      ],
      "metadata": {
        "id": "8E3ZBGoDTkMz"
      }
    },
    {
      "cell_type": "code",
      "source": [
        "n = int(input(\"Enter the number of Fibonacci terms: \"))\n",
        "fib_series = []\n",
        "\n",
        "a, b = 0, 1\n",
        "for _ in range(n):\n",
        "    fib_series.append(a)\n",
        "    a, b = b, a + b\n",
        "\n",
        "print(\"Fibonacci Series:\", fib_series)"
      ],
      "metadata": {
        "colab": {
          "base_uri": "https://localhost:8080/"
        },
        "id": "vJa1JU2RTmn7",
        "outputId": "28c53f8b-3bd1-4014-fed4-83e8d15ba67c"
      },
      "execution_count": null,
      "outputs": [
        {
          "output_type": "stream",
          "name": "stdout",
          "text": [
            "Enter the number of Fibonacci terms: 7\n",
            "Fibonacci Series: [0, 1, 1, 2, 3, 5, 8]\n"
          ]
        }
      ]
    },
    {
      "cell_type": "markdown",
      "source": [
        "Q7. Read a string and count the number of vowels."
      ],
      "metadata": {
        "id": "RbcyNH-ET7Xp"
      }
    },
    {
      "cell_type": "code",
      "source": [
        "# Read a string from the user\n",
        "input_string = input(\"Enter a string: \")\n",
        "\n",
        "# Define the vowels (both lowercase and uppercase)\n",
        "vowels = \"aeiouAEIOU\"\n",
        "\n",
        "# Initialize vowel counter\n",
        "vowel_count = 0\n",
        "\n",
        "# Count vowels in the string\n",
        "for char in input_string:\n",
        "    if char in vowels:\n",
        "        vowel_count += 1\n",
        "\n",
        "# Display the result\n",
        "print(f\"Number of vowels in '{input_string}': {vowel_count}\")"
      ],
      "metadata": {
        "colab": {
          "base_uri": "https://localhost:8080/"
        },
        "id": "L0qz9fqFUF8y",
        "outputId": "fbcff30b-843d-4dbf-dd1b-5f72ab406dde"
      },
      "execution_count": null,
      "outputs": [
        {
          "output_type": "stream",
          "name": "stdout",
          "text": [
            "Enter a string: Malik Muzamil \n",
            "Number of vowels in 'Malik Muzamil ': 5\n"
          ]
        }
      ]
    },
    {
      "cell_type": "markdown",
      "source": [
        "Q8. Create a tuple of numbers and find the maximum and minimum."
      ],
      "metadata": {
        "id": "ncpXdW9aUkJY"
      }
    },
    {
      "cell_type": "code",
      "source": [
        "# Step 1: Create a tuple of numbers\n",
        "numbers = (23, 45, 12, 67, 89, 34, 56, 78, 90, 11)\n",
        "\n",
        "# Step 2: Find the maximum value in the tuple\n",
        "max_value = max(numbers)\n",
        "\n",
        "# Step 3: Find the minimum value in the tuple\n",
        "min_value = min(numbers)\n",
        "\n",
        "# Step 4: Display the results\n",
        "print(\"Tuple of numbers:\", numbers)\n",
        "print(\"Maximum value:\", max_value)\n",
        "print(\"Minimum value:\", min_value)"
      ],
      "metadata": {
        "colab": {
          "base_uri": "https://localhost:8080/"
        },
        "id": "TYwjF7HgUny_",
        "outputId": "5584e22f-ce22-448f-9e5e-d850a4030198"
      },
      "execution_count": null,
      "outputs": [
        {
          "output_type": "stream",
          "name": "stdout",
          "text": [
            "Tuple of numbers: (23, 45, 12, 67, 89, 34, 56, 78, 90, 11)\n",
            "Maximum value: 90\n",
            "Minimum value: 11\n"
          ]
        }
      ]
    },
    {
      "cell_type": "markdown",
      "source": [
        "Q9. Create a program that asks for user input and reverses the string."
      ],
      "metadata": {
        "id": "vwc_4skhUuzf"
      }
    },
    {
      "cell_type": "code",
      "source": [
        "# Get user input\n",
        "user_input = input(\"Enter a string to reverse: \")\n",
        "\n",
        "# Reverse the string using slicing\n",
        "reversed_string = user_input[::-1]\n",
        "\n",
        "# Display the result\n",
        "print(\"Original string:\", user_input)\n",
        "print(\"Reversed string:\", reversed_string)"
      ],
      "metadata": {
        "colab": {
          "base_uri": "https://localhost:8080/"
        },
        "id": "Uzb-yLh0UzbP",
        "outputId": "ce8465f7-48d4-4bf4-bc14-aed48aa30f2d"
      },
      "execution_count": null,
      "outputs": [
        {
          "output_type": "stream",
          "name": "stdout",
          "text": [
            "Enter a string to reverse: MuzamilMalik\n",
            "Original string: MuzamilMalik\n",
            "Reversed string: kilaMlimazuM\n"
          ]
        }
      ]
    }
  ],
  "metadata": {
    "colab": {
      "toc_visible": true,
      "provenance": [],
      "include_colab_link": true
    },
    "kernelspec": {
      "display_name": "Python 3",
      "name": "python3"
    }
  },
  "nbformat": 4,
  "nbformat_minor": 0
}